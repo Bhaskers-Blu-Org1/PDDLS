{
 "cells": [
  {
   "cell_type": "markdown",
   "metadata": {},
   "source": [
    "# PDDLS compiler usage example"
   ]
  },
  {
   "cell_type": "code",
   "execution_count": 1,
   "metadata": {},
   "outputs": [
    {
     "name": "stdout",
     "output_type": "stream",
     "text": [
      "Processing /Users/mich/git/PDDLS\n",
      "Building wheels for collected packages: pddls\n",
      "  Building wheel for pddls (setup.py) ... \u001b[?25ldone\n",
      "\u001b[?25h  Created wheel for pddls: filename=pddls-0.2.1-py3-none-any.whl size=12275 sha256=41e3cd3761a5706e03f108be428c8450727975ae604ac543e01221ec30fe38ed\n",
      "  Stored in directory: /private/var/folders/zq/bxt60rfx66q24xdm0y8ks5dr0000gn/T/pip-ephem-wheel-cache-th79m2_l/wheels/30/ab/f5/be3018fe19fee387093feb86b45232a03bb2e007cc90e4f3be\n",
      "Successfully built pddls\n",
      "Installing collected packages: pddls\n",
      "  Attempting uninstall: pddls\n",
      "    Found existing installation: pddls 0.2.1\n",
      "    Uninstalling pddls-0.2.1:\n",
      "      Successfully uninstalled pddls-0.2.1\n",
      "Successfully installed pddls-0.2.1\n"
     ]
    }
   ],
   "source": [
    "!pip install .."
   ]
  },
  {
   "cell_type": "code",
   "execution_count": 2,
   "metadata": {},
   "outputs": [
    {
     "name": "stdout",
     "output_type": "stream",
     "text": [
      "usage: pddlsc [-h] [-d DOMAIN_FILE [DOMAIN_FILE ...]]\r\n",
      "              [-r ONTOLOGY_FILE [ONTOLOGY_FILE ...]] [-o OUTPUT_FILE]\r\n",
      "              input_pddls_file\r\n",
      "\r\n",
      "Translate PDDLS to PDDL (or YAML).\r\n",
      "\r\n",
      "positional arguments:\r\n",
      "  input_pddls_file      source problem PDDLS\r\n",
      "\r\n",
      "optional arguments:\r\n",
      "  -h, --help            show this help message and exit\r\n",
      "  -d DOMAIN_FILE [DOMAIN_FILE ...], --domain_file DOMAIN_FILE [DOMAIN_FILE ...]\r\n",
      "                        PDDLS file(s) for domain\r\n",
      "  -r ONTOLOGY_FILE [ONTOLOGY_FILE ...], --ontology_file ONTOLOGY_FILE [ONTOLOGY_FILE ...]\r\n",
      "                        RDF file(s) for ontology\r\n",
      "  -o OUTPUT_FILE, --output_file OUTPUT_FILE\r\n",
      "                        Output problem PDDL file\r\n"
     ]
    }
   ],
   "source": [
    "!pddlsc --help"
   ]
  },
  {
   "cell_type": "code",
   "execution_count": 3,
   "metadata": {},
   "outputs": [
    {
     "name": "stdout",
     "output_type": "stream",
     "text": [
      "Extracted predicates:\r\n",
      "uri:cril/action/available: !!python/tuple\r\n",
      "- available\r\n",
      "-   -   ?p: pillar\r\n",
      "uri:cril/action/clear: !!python/tuple\r\n",
      "- clear\r\n",
      "-   -   ?h: hole\r\n",
      "uri:cril/action/insertable: !!python/tuple\r\n",
      "- insertable\r\n",
      "-   -   ?p: pillar\r\n",
      "    -   ?h: hole\r\n",
      "\r\n",
      "Extracted objects:\r\n",
      "uri:cril/demo2/CylindricalHole_4: CylindricalHole_4\r\n",
      "uri:cril/demo2/CylindricalPillar_1: CylindricalPillar_1\r\n",
      "uri:cril/demo2/SquareHole_6: SquareHole_6\r\n",
      "uri:cril/demo2/SquarePillar_3: SquarePillar_3\r\n",
      "uri:cril/demo2/TriangularHole_5: TriangularHole_5\r\n",
      "uri:cril/demo2/TriangularPillar_2: TriangularPillar_2\r\n",
      "\r\n",
      "Resolving predicate uri:cril/action/clear\r\n",
      "Resolving predicate uri:cril/action/available\r\n",
      "Resolving predicate uri:cril/action/insertable\r\n"
     ]
    }
   ],
   "source": [
    "!pddlsc -d demo2/demo2_domain.pddls -r demo2/objects.ttl -o out.pddl demo2/demo2_problem.pddls"
   ]
  },
  {
   "cell_type": "code",
   "execution_count": 4,
   "metadata": {},
   "outputs": [
    {
     "name": "stdout",
     "output_type": "stream",
     "text": [
      "(define (problem planners-demo2-problem1)\r\n",
      "    (:domain planners-demo2)\r\n",
      "    (:objects\r\n",
      " CylindricalPillar_1 - pillar TriangularPillar_2 - pillar SquarePillar_3 - pillar CylindricalHole_4 - hole TriangularHole_5 - hole SquareHole_6 - hole    )\r\n",
      "    (:init\r\n",
      "( available CylindricalPillar_1 )\r\n",
      "( available TriangularPillar_2 )\r\n",
      "( available SquarePillar_3 )\r\n",
      "( clear CylindricalHole_4 )\r\n",
      "( clear TriangularHole_5 )\r\n",
      "( clear SquareHole_6 )\r\n",
      "( = ( number-of-pillars-inserted ) 0 )\r\n",
      "( = ( number-of-pillars-to-insert ) 3 )\r\n",
      "    )\r\n",
      "    (:goal\r\n",
      "( and ( = ( number-of-pillars-inserted ) ( number-of-pillars-to-insert ) ) )    )\r\n",
      ")\r\n"
     ]
    }
   ],
   "source": [
    "!cat out.pddl"
   ]
  },
  {
   "cell_type": "code",
   "execution_count": 5,
   "metadata": {},
   "outputs": [
    {
     "name": "stdout",
     "output_type": "stream",
     "text": [
      "Extracted predicates:\r\n",
      "uri:cril/action/available: !!python/tuple\r\n",
      "- available\r\n",
      "-   -   ?p: pillar\r\n",
      "uri:cril/action/clear: !!python/tuple\r\n",
      "- clear\r\n",
      "-   -   ?h: hole\r\n",
      "uri:cril/action/insertable: !!python/tuple\r\n",
      "- insertable\r\n",
      "-   -   ?p: pillar\r\n",
      "    -   ?h: hole\r\n",
      "\r\n",
      "Extracted objects:\r\n",
      "uri:cril/demo2/CylindricalHole_4: CylindricalHole_4\r\n",
      "uri:cril/demo2/CylindricalPillar_1: CylindricalPillar_1\r\n",
      "uri:cril/demo2/SquareHole_6: SquareHole_6\r\n",
      "uri:cril/demo2/SquarePillar_3: SquarePillar_3\r\n",
      "uri:cril/demo2/TriangularHole_5: TriangularHole_5\r\n",
      "uri:cril/demo2/TriangularPillar_2: TriangularPillar_2\r\n",
      "\r\n",
      "Resolving predicate uri:cril/action/clear\r\n",
      "Resolving predicate uri:cril/action/available\r\n",
      "Resolving predicate uri:cril/action/insertable\r\n",
      "Unsupported graph formula found uri:cril/shapes#InsertableConstraint\r\n",
      "SPARQL formula Found\r\n"
     ]
    }
   ],
   "source": [
    "!pddlsc -d demo2/demo2_domain.pddls -r demo2/objects.ttl demo2/hole_onto.ttl -o out.pddl demo2/demo2_problem.pddls"
   ]
  },
  {
   "cell_type": "code",
   "execution_count": 6,
   "metadata": {},
   "outputs": [
    {
     "name": "stdout",
     "output_type": "stream",
     "text": [
      "(define (problem planners-demo2-problem1)\r\n",
      "    (:domain planners-demo2)\r\n",
      "    (:objects\r\n",
      " CylindricalPillar_1 - pillar TriangularPillar_2 - pillar SquarePillar_3 - pillar CylindricalHole_4 - hole TriangularHole_5 - hole SquareHole_6 - hole    )\r\n",
      "    (:init\r\n",
      "( available CylindricalPillar_1 )\r\n",
      "( available TriangularPillar_2 )\r\n",
      "( available SquarePillar_3 )\r\n",
      "( clear CylindricalHole_4 )\r\n",
      "( clear TriangularHole_5 )\r\n",
      "( clear SquareHole_6 )\r\n",
      "( = ( number-of-pillars-inserted ) 0 )\r\n",
      "( = ( number-of-pillars-to-insert ) 3 )\r\n",
      "(insertable CylindricalPillar_1 CylindricalHole_4)\r\n",
      "(insertable TriangularPillar_2 TriangularHole_5)\r\n",
      "    )\r\n",
      "    (:goal\r\n",
      "( and ( = ( number-of-pillars-inserted ) ( number-of-pillars-to-insert ) ) )    )\r\n",
      ")\r\n"
     ]
    }
   ],
   "source": [
    "!cat out.pddl"
   ]
  },
  {
   "cell_type": "code",
   "execution_count": null,
   "metadata": {},
   "outputs": [],
   "source": []
  }
 ],
 "metadata": {
  "kernelspec": {
   "display_name": "Python 3",
   "language": "python",
   "name": "python3"
  },
  "language_info": {
   "codemirror_mode": {
    "name": "ipython",
    "version": 3
   },
   "file_extension": ".py",
   "mimetype": "text/x-python",
   "name": "python",
   "nbconvert_exporter": "python",
   "pygments_lexer": "ipython3",
   "version": "3.7.3"
  }
 },
 "nbformat": 4,
 "nbformat_minor": 4
}
